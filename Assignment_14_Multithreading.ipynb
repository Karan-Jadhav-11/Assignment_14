{
 "cells": [
  {
   "cell_type": "markdown",
   "id": "6a29aa41-ea22-41d4-8791-b5d552ed0a03",
   "metadata": {},
   "source": [
    "### Q1. what is multithreading in python? why is it used? Name the module used to handle threads in python"
   ]
  },
  {
   "cell_type": "markdown",
   "id": "2c0422cd-086c-4def-bc2c-d8eaff496b84",
   "metadata": {},
   "source": [
    "ANS: \n",
    "    Multithreading in Python refers to the ability of a program to execute multiple threads concurrently within a single process. A thread is a lightweight subprocess, and multithreading allows a program to perform multiple tasks simultaneously, thereby potentially improving performance and responsiveness.\n",
    "\n",
    "Multithreading is used in Python for various purposes, such as:\n",
    "\n",
    "Performing multiple I/O-bound tasks concurrently, such as downloading multiple files from the internet simultaneously.\n",
    "\n",
    "Running tasks in parallel to take advantage of multi-core processors, especially for CPU-bound tasks.\n",
    "\n",
    "Keeping the main program responsive while performing time-consuming operations in the background.\n",
    "\n",
    "\n",
    "In Python, the threading module is used to handle threads. This module provides a high-level interface for creating and managing threads. It allows developers to create new threads, start them, pause them, resume them, and coordinate their execution. However, due to the Global Interpreter Lock (GIL) in CPython, multithreading in Python may not provide true parallelism for CPU-bound tasks on multi-core processors. For CPU-bound tasks, multiprocessing or asynchronous programming with asyncio may be more suitable.\n"
   ]
  },
  {
   "cell_type": "code",
   "execution_count": null,
   "id": "c8791a3b-6582-446a-b5fc-152a62d76f30",
   "metadata": {},
   "outputs": [],
   "source": []
  },
  {
   "cell_type": "markdown",
   "id": "47bbb692-1dd2-4c2d-baf2-85ac3b5b87f5",
   "metadata": {},
   "source": [
    " \n",
    "### Q2. Why threading module used? Write the use of the following functions 1) activeCount 2) currentThread 3) enumerate"
   ]
  },
  {
   "cell_type": "markdown",
   "id": "6b731398-dc7c-4450-a681-b3897b2c1bb3",
   "metadata": {},
   "source": [
    "ANS: \n",
    "    \n",
    "    The threading module is used in Python to run multiple threads (lighter and smaller units of task) concurrently. It allows you to perform complex operations with multiple threads running as if they are completely separate processes, thus enabling multitasking within a single process.\n",
    "\n",
    "Here are the uses of the specified functions:\n",
    "\n",
    "1. activeCount(): Returns the number of thread objects that are active. It counts all threads created using the threading module that are still running.\n",
    "\n",
    "This function returns the number of Thread objects currently alive.\n",
    "It helps in understanding how many threads are currently running in the program."
   ]
  },
  {
   "cell_type": "code",
   "execution_count": 5,
   "id": "90d1229f-8ea2-4b7d-92fa-102fb2e5c4ca",
   "metadata": {},
   "outputs": [
    {
     "name": "stdout",
     "output_type": "stream",
     "text": [
      "Active threads: 8\n"
     ]
    },
    {
     "name": "stderr",
     "output_type": "stream",
     "text": [
      "/tmp/ipykernel_438/3307021329.py:4: DeprecationWarning: activeCount() is deprecated, use active_count() instead\n",
      "  active_threads = threading.activeCount()\n"
     ]
    }
   ],
   "source": [
    "import threading\n",
    "\n",
    "# Returns the number of active threads\n",
    "active_threads = threading.activeCount()\n",
    "print(f\"Active threads: {active_threads}\")\n"
   ]
  },
  {
   "cell_type": "markdown",
   "id": "f1ae341e-6642-45f8-a911-3373322b84b1",
   "metadata": {},
   "source": [
    "2. currentThread():\n",
    "This function returns the current Thread object corresponding to the caller.\n",
    "It can be useful for accessing the attributes of the current thread or identifying it uniquely."
   ]
  },
  {
   "cell_type": "code",
   "execution_count": 6,
   "id": "f69020a2-6d9b-4894-8509-12feb6b82097",
   "metadata": {},
   "outputs": [
    {
     "name": "stdout",
     "output_type": "stream",
     "text": [
      "Current thread: MainThread\n"
     ]
    },
    {
     "name": "stderr",
     "output_type": "stream",
     "text": [
      "/tmp/ipykernel_438/3327634968.py:4: DeprecationWarning: currentThread() is deprecated, use current_thread() instead\n",
      "  current_thread = threading.currentThread()\n"
     ]
    }
   ],
   "source": [
    "import threading\n",
    "\n",
    "# Returns the current thread object\n",
    "current_thread = threading.currentThread()\n",
    "print(f\"Current thread: {current_thread.name}\")\n"
   ]
  },
  {
   "cell_type": "markdown",
   "id": "b9247182-824a-417e-b393-81ae9ddec7fd",
   "metadata": {},
   "source": [
    "3. enumerate():\n",
    "This function returns a list of all Thread objects currently alive.\n",
    "It can be used to iterate over all active threads and perform operations on them."
   ]
  },
  {
   "cell_type": "code",
   "execution_count": 7,
   "id": "68a50ce6-92e5-41b9-b031-bb7df98cb7b1",
   "metadata": {},
   "outputs": [
    {
     "name": "stdout",
     "output_type": "stream",
     "text": [
      "Alive threads: ['MainThread', 'IOPub', 'Heartbeat', 'Thread-3 (_watch_pipe_fd)', 'Thread-4 (_watch_pipe_fd)', 'Control', 'IPythonHistorySavingThread', 'Thread-2']\n"
     ]
    }
   ],
   "source": [
    "import threading\n",
    "\n",
    "# Returns a list of all alive threads\n",
    "alive_threads = threading.enumerate()\n",
    "print(f\"Alive threads: {[thread.name for thread in alive_threads]}\")\n"
   ]
  },
  {
   "cell_type": "markdown",
   "id": "28e9ceab-d619-4392-a353-ddf8da5958a0",
   "metadata": {},
   "source": [
    "These functions are part of the threading module’s utilities that help manage and interact with threads in a Python program."
   ]
  },
  {
   "cell_type": "code",
   "execution_count": null,
   "id": "e946a8c2-5c43-4eff-9b13-1a22d7f4cc95",
   "metadata": {},
   "outputs": [],
   "source": []
  },
  {
   "cell_type": "markdown",
   "id": "46f25e40-1545-470f-a29d-6a44e79ebea8",
   "metadata": {},
   "source": [
    "### Q3. Explain the following functions ( run, start, join,  isAlive)"
   ]
  },
  {
   "cell_type": "markdown",
   "id": "aa5b6ec3-4266-404d-8a3e-c69a2f060aae",
   "metadata": {},
   "source": [
    "hese functions are key methods provided by the threading.Thread class in Python for managing threads:\n",
    "\n",
    "run(): This is the method that is executed when a thread starts. In the threading module, run() is the entry-point method for a thread. You define run() in your subclass of Thread. When you create a new thread object and call its start() method, it will start running the code in the run() method."
   ]
  },
  {
   "cell_type": "code",
   "execution_count": 8,
   "id": "1f6a3685-8978-45d0-9d13-4e3b25125a99",
   "metadata": {},
   "outputs": [
    {
     "name": "stdout",
     "output_type": "stream",
     "text": [
      "Thread is running\n"
     ]
    }
   ],
   "source": [
    "import threading\n",
    "\n",
    "class MyThread(threading.Thread):\n",
    "    def run(self):\n",
    "        print(\"Thread is running\")\n",
    "\n",
    "thread = MyThread()\n",
    "thread.start()  # This will call the run() method internally\n"
   ]
  },
  {
   "cell_type": "markdown",
   "id": "e96dc608-4759-44a6-b597-b9aad9da26ff",
   "metadata": {},
   "source": [
    "start():\n",
    "The start() method is used to start the execution of the thread. It initializes the thread, calls the run() method, and begins its execution.\n",
    "After calling start(), the thread moves from the \"start\" state to the \"running\" state and executes the run() method in a separate thread of control."
   ]
  },
  {
   "cell_type": "code",
   "execution_count": 9,
   "id": "85132242-ecf6-4e5e-890e-b9fb6f1dba5d",
   "metadata": {},
   "outputs": [
    {
     "name": "stdout",
     "output_type": "stream",
     "text": [
      "Thread is running\n"
     ]
    }
   ],
   "source": [
    "import threading\n",
    "\n",
    "def my_function():\n",
    "    print(\"Thread is running\")\n",
    "\n",
    "thread = threading.Thread(target=my_function)\n",
    "thread.start()  # Start the execution of the thread\n"
   ]
  },
  {
   "cell_type": "markdown",
   "id": "36f1e412-905b-461d-adac-af7925535c0d",
   "metadata": {},
   "source": [
    "3. join():\n",
    "The join() method is used to wait for the thread to complete its execution. It blocks the calling thread (usually the main thread) until the thread whose join() method is called finishes its execution.\n",
    "This method is often used to synchronize the main thread with the completion of other threads."
   ]
  },
  {
   "cell_type": "code",
   "execution_count": 10,
   "id": "2371c2ec-3a31-4093-be3f-5c1f3bd6f770",
   "metadata": {},
   "outputs": [
    {
     "name": "stdout",
     "output_type": "stream",
     "text": [
      "Thread is running\n",
      "Thread has finished execution\n"
     ]
    }
   ],
   "source": [
    "import threading\n",
    "\n",
    "def my_function():\n",
    "    print(\"Thread is running\")\n",
    "\n",
    "thread = threading.Thread(target=my_function)\n",
    "thread.start()  # Start the execution of the thread\n",
    "thread.join()   # Wait for the thread to finish\n",
    "print(\"Thread has finished execution\")\n"
   ]
  },
  {
   "cell_type": "markdown",
   "id": "eaa4299c-3c4a-47fb-a116-1a13da7d2fbb",
   "metadata": {},
   "source": [
    "4. isAlive(): This method checks whether the thread is still executing9121014. It returns True if the thread is still running, and False otherwise. This method will return True from when the run() method starts until just after the run() method terminates."
   ]
  },
  {
   "cell_type": "code",
   "execution_count": null,
   "id": "80ea2093-5284-40f1-8b88-694a1ea1a692",
   "metadata": {},
   "outputs": [],
   "source": [
    "import threading\n",
    "\n",
    "def my_function():\n",
    "    print(\"Thread is running\")\n",
    "\n",
    "thread = threading.Thread(target=my_function)\n",
    "print(\"Thread is alive:\", thread.isAlive())  # Output will be False\n",
    "thread.start()\n",
    "print(\"Thread is alive:\", thread.isAlive())  # Output will be True\n"
   ]
  },
  {
   "cell_type": "markdown",
   "id": "8e54e75b-8cc0-4d80-8d93-34b791b24a79",
   "metadata": {},
   "source": [
    "These functions/methods provide the necessary tools to create, start, manage, and synchronize threads in Python."
   ]
  },
  {
   "cell_type": "code",
   "execution_count": null,
   "id": "de84540a-da95-46ea-978c-0344264cb577",
   "metadata": {},
   "outputs": [],
   "source": []
  },
  {
   "cell_type": "markdown",
   "id": "13df9126-aca2-4b69-83f0-1dcce9031daf",
   "metadata": {},
   "source": [
    "### Q4. write a python program to create two threads. Thread one must print the list of squares and thread two must print the list of cubes."
   ]
  },
  {
   "cell_type": "code",
   "execution_count": null,
   "id": "ef4ed9a8-6235-4111-9924-746959598920",
   "metadata": {},
   "outputs": [],
   "source": []
  },
  {
   "cell_type": "code",
   "execution_count": 13,
   "id": "9f5d8ee9-d683-4f3d-9eb9-3d1c46ff1d2e",
   "metadata": {},
   "outputs": [
    {
     "name": "stdout",
     "output_type": "stream",
     "text": [
      "Squares: [1, 4, 9, 16, 25]\n",
      "Cubes: [1, 8, 27, 64, 125]\n",
      "Main thread exits\n"
     ]
    }
   ],
   "source": [
    "import threading\n",
    "\n",
    "def print_squares():\n",
    "    squares = [i ** 2 for i in range(1, 6)]\n",
    "    print(\"Squares:\", squares)\n",
    "\n",
    "def print_cubes():\n",
    "    cubes = [i ** 3 for i in range(1, 6)]\n",
    "    print(\"Cubes:\", cubes)\n",
    "\n",
    "# Create two threads\n",
    "thread1 = threading.Thread(target=print_squares)\n",
    "thread2 = threading.Thread(target=print_cubes)\n",
    "\n",
    "# Start the threads\n",
    "thread1.start()\n",
    "thread2.start()\n",
    "\n",
    "# Wait for both threads to finish\n",
    "thread1.join()\n",
    "thread2.join()\n",
    "\n",
    "print(\"Main thread exits\")\n"
   ]
  },
  {
   "cell_type": "code",
   "execution_count": null,
   "id": "11f27886-838f-4477-91db-57cb169b6254",
   "metadata": {},
   "outputs": [],
   "source": []
  },
  {
   "cell_type": "markdown",
   "id": "d1a7d0d1-50a1-4098-b17c-b78f1f09a1b6",
   "metadata": {},
   "source": [
    "### Q5. State advantages and disadvantages of multithreading"
   ]
  },
  {
   "cell_type": "markdown",
   "id": "608ae3aa-2e9e-40ee-99eb-02ad7bb6e939",
   "metadata": {},
   "source": [
    "ANS :\n",
    "    \n",
    "    Multithreading offers several advantages and disadvantages:\n",
    "\n",
    "Advantages:\n",
    "\n",
    "1. Improved Performance: Multithreading can lead to improved performance by leveraging multiple CPU cores. It allows concurrent execution of multiple tasks, enabling the program to utilize CPU time more efficiently.\n",
    "2. Enhanced Responsiveness: Multithreading can improve the responsiveness of an application, especially in user interfaces and server applications. It prevents blocking of the main thread, ensuring that the application remains interactive and responsive to user input.\n",
    "3. Resource Sharing: Threads within the same process share the same memory space, allowing them to easily share data and resources. This can simplify communication and coordination between different parts of the program.\n",
    "4. Concurrency: Multithreading enables concurrent execution of multiple tasks, which can be beneficial for handling I/O-bound operations such as network communication, file I/O, and database queries.\n",
    "\n",
    "Disadvantages:\n",
    "\n",
    "1. Complexity and Difficulty: Multithreading introduces complexity and can make the code harder to reason about and debug. Synchronization and coordination between threads are essential to prevent race conditions and ensure data consistency, which adds complexity to the code.\n",
    "2. Concurrency Issues: Multithreading can lead to concurrency issues such as race conditions, deadlocks, and livelocks. These issues arise when multiple threads access shared resources concurrently without proper synchronization, leading to unpredictable behavior and bugs.\n",
    "3. Resource Overhead: Each thread consumes system resources such as memory and CPU time. Creating and managing a large number of threads can result in increased resource overhead and decreased performance due to context switching and thread management overhead.\n",
    "4. Potential for Bottlenecks: In some cases, multithreading may not lead to significant performance improvements due to factors such as the Global Interpreter Lock (GIL) in Python, which limits the parallel execution of Python bytecode on multi-core processors. Additionally, poorly designed multithreaded programs may experience bottlenecks and scalability issues."
   ]
  },
  {
   "cell_type": "code",
   "execution_count": null,
   "id": "3625caed-4c0e-4715-b920-9e89ec126b73",
   "metadata": {},
   "outputs": [],
   "source": []
  },
  {
   "cell_type": "markdown",
   "id": "7d36c16d-bbdc-44bd-85ee-92b384fc6fe1",
   "metadata": {},
   "source": [
    "### Q6. Explain deadlocks and race conditions."
   ]
  },
  {
   "cell_type": "markdown",
   "id": "99b63874-2b7f-4c35-a39f-3b153a9a4f72",
   "metadata": {},
   "source": [
    "Deadlocks and race conditions are common concurrency issues that can occur in multithreaded programs:\n",
    "\n",
    "#### Deadlock:\n",
    "    A deadlock is a situation in a multithreaded environment where several processes are unable to proceed because each is waiting for the other to release a resource. For example, imagine two trains on the same track moving towards each other. Neither can proceed until the other moves, creating a deadlock.\n",
    "    Deadlock is a situation where two or more threads are unable to proceed because each is waiting for the other to release a resource that it needs.\n",
    "    Deadlocks typically occur in situations involving multiple locks or resources where threads acquire locks in a particular order but then wait indefinitely for another lock that is held by a different thread.\n",
    "    Deadlocks can lead to a complete halt in program execution, as none of the involved threads can proceed, and the program becomes unresponsive.\n",
    "    Deadlocks are often caused by a lack of proper synchronization or by incorrect ordering of lock acquisition.\n",
    "\n",
    "Deadlock can occur if the following four conditions hold simultaneously:\n",
    "\n",
    "1. Mutual Exclusion: A resource that cannot be used by more than one process at a time.\n",
    "2. Hold and Wait: A process is holding at least one resource and waiting for other resources.\n",
    "3. No Preemption: A resource cannot be forcibly removed from a process unless the process releases it.\n",
    "4. Circular Wait: A set of processes are waiting for each other in a circular form.\n",
    "\n",
    "#### Race Condition:\n",
    "   A race condition occurs when the behavior of a program depends on the relative timing or interleaving of multiple threads executing concurrently.\n",
    "    In a race condition, the outcome of the program depends on the non-deterministic order in which threads are scheduled to execute, leading to unpredictable results.\n",
    "    Race conditions often arise when multiple threads access shared resources (such as variables or data structures) concurrently without proper synchronization.\n",
    "    Race conditions can manifest as bugs or unexpected behavior, such as incorrect calculation results, data corruption, or program crashes.\n",
    "    Race conditions are particularly common in scenarios where threads perform read-modify-write operations on shared variables without proper synchronization, leading to inconsistent or incorrect results.\n",
    "    \n",
    "    An example of a race condition is when two threads read a value from a variable, increment this value by , and write the new value back to that variable. If the threads’ execution is interleaved, the final value might be just one more than the initial value, instead of two more like expected.\n",
    "\n",
    "    To prevent race conditions, operations on a shared resource must be made atomic. This means that at any given time, the operation (or set of operations) is either fully completed, or not done at all, preventing other threads from reading or writing the data until the operation is complete"
   ]
  }
 ],
 "metadata": {
  "kernelspec": {
   "display_name": "Python 3 (ipykernel)",
   "language": "python",
   "name": "python3"
  },
  "language_info": {
   "codemirror_mode": {
    "name": "ipython",
    "version": 3
   },
   "file_extension": ".py",
   "mimetype": "text/x-python",
   "name": "python",
   "nbconvert_exporter": "python",
   "pygments_lexer": "ipython3",
   "version": "3.10.8"
  }
 },
 "nbformat": 4,
 "nbformat_minor": 5
}
